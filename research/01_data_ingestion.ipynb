{
 "cells": [
  {
   "cell_type": "code",
   "execution_count": 36,
   "metadata": {},
   "outputs": [],
   "source": [
    "import os "
   ]
  },
  {
   "cell_type": "code",
   "execution_count": 37,
   "metadata": {},
   "outputs": [
    {
     "data": {
      "text/plain": [
       "'d:\\\\projects\\\\project2'"
      ]
     },
     "execution_count": 37,
     "metadata": {},
     "output_type": "execute_result"
    }
   ],
   "source": [
    "%pwd"
   ]
  },
  {
   "cell_type": "code",
   "execution_count": 40,
   "metadata": {},
   "outputs": [],
   "source": [
    "os.chdir(path='d:\\\\projects\\\\project2')"
   ]
  },
  {
   "cell_type": "code",
   "execution_count": 41,
   "metadata": {},
   "outputs": [
    {
     "data": {
      "text/plain": [
       "'d:\\\\projects\\\\project2'"
      ]
     },
     "execution_count": 41,
     "metadata": {},
     "output_type": "execute_result"
    }
   ],
   "source": [
    "%pwd"
   ]
  },
  {
   "cell_type": "code",
   "execution_count": 42,
   "metadata": {},
   "outputs": [],
   "source": [
    "from dataclasses import dataclass\n",
    "from pathlib import Path\n",
    "\n",
    "\n",
    "@dataclass(frozen=True)\n",
    "class data_ingestionConfig:\n",
    "    root_dir : Path\n",
    "    source_URL :str\n",
    "    local_data_file : Path\n",
    "    unzip_dir : Path\n",
    "    "
   ]
  },
  {
   "cell_type": "code",
   "execution_count": 44,
   "metadata": {},
   "outputs": [],
   "source": [
    "    from src.Text_summarizer.constants import *\n",
    "    from src.Text_summarizer.utils.common import create_directories,read_yaml\n",
    "    from src.Text_summarizer.logging import logging"
   ]
  },
  {
   "cell_type": "code",
   "execution_count": 20,
   "metadata": {},
   "outputs": [],
   "source": [
    "class ConfigurationManager:\n",
    "    def __init__(self, config_file_path = CONFIG_FILE_PATH, params_file_path = PARAMS_FILE_PATH):\n",
    "        self.config=read_yaml(config_file_path)\n",
    "        self.params= read_yaml(params_file_path) \n",
    "        \n",
    "        create_directories([self.config.artifacts_root])\n",
    "        logging.info(\"created directory named artifacts\")\n",
    "        \n",
    "        \n",
    "        \n",
    "    def get_data_ingestion_config(self)-> data_ingestionConfig:\n",
    "        ## this is where we read the yaml file , to get the file path saved in the yaml file \n",
    "        config=self.config.data_ingestion\n",
    "        \n",
    "        create_directories([config.root_dir])\n",
    "        logging.info(\"creating directory named root_dir\")\n",
    "        ## again reading the yaml file \n",
    "        data_ingestion_config=data_ingestionConfig(    \n",
    "            root_dir=config.root_dir,\n",
    "            source_URL=config.source_URL,\n",
    "            local_data_file=config.local_data_file,\n",
    "            unzip_dir=config.unzip_dir)\n",
    "        \n",
    "        return data_ingestion_config\n",
    "            \n",
    "        \n",
    "        "
   ]
  },
  {
   "cell_type": "code",
   "execution_count": 45,
   "metadata": {},
   "outputs": [],
   "source": [
    "##loading all the important libraries \n",
    "import os \n",
    "from pathlib import Path\n",
    "import zipfile\n",
    "from src.Text_summarizer.logging import logging \n",
    "from src.Text_summarizer.utils.common import get_size\n",
    "from urllib.request import Request,urlretrieve\n"
   ]
  },
  {
   "cell_type": "code",
   "execution_count": 48,
   "metadata": {},
   "outputs": [],
   "source": [
    "class DataIngestion:\n",
    "    def __init__(self,config : data_ingestionConfig):\n",
    "        self.config=config\n",
    "        \n",
    "    def download_data(self):\n",
    "        ## created the directory if it does not exist\n",
    "        directory = os.path.dirname(self.config.local_data_file)\n",
    "        if not os.path.exists(directory):\n",
    "            os.makedirs(directory)\n",
    "        if not os.path.exists(self.config.local_data_file):\n",
    "            filename,header = urlretrieve(\n",
    "                url=self.config.source_URL,\n",
    "                filename=self.config.local_data_file\n",
    "            )    \n",
    "            logging.info(f\"{filename} downaloaded with following info : {header}\")\n",
    "        else:\n",
    "            logging.info(f\"file already exists of size : {get_size(Path(self.config.local_data_file))} \") \n",
    "            \n",
    "    def extract_zip_file(self):\n",
    "        unzip_path= self.config.unzip_dir\n",
    "        os.makedirs(unzip_path,exist_ok=True)\n",
    "        with zipfile.ZipFile(self.config.local_data_file,'r') as zip_ref:\n",
    "            zip_ref.extractall(unzip_path)"
   ]
  },
  {
   "cell_type": "code",
   "execution_count": 49,
   "metadata": {},
   "outputs": [
    {
     "name": "stdout",
     "output_type": "stream",
     "text": [
      "[ 2024-07-30 01:09:42,924 ] 16 root - INFO - yaml file:<_io.TextIOWrapper name='config\\\\config.yaml' mode='r' encoding='UTF-8'> loaded successfully\n",
      "[ 2024-07-30 01:09:42,928 ] 16 root - INFO - yaml file:<_io.TextIOWrapper name='params.yaml' mode='r' encoding='UTF-8'> loaded successfully\n",
      "[ 2024-07-30 01:09:42,928 ] 27 root - INFO - created directory at :artifacts\n",
      "[ 2024-07-30 01:09:42,932 ] 27 root - INFO - created directory at :artifacts/data_ingestion\n",
      "[ 2024-07-30 01:09:47,021 ] 14 root - INFO - artifacts/data_inegstion/data.zip downaloaded with following info : Connection: close\n",
      "Content-Length: 7903594\n",
      "Cache-Control: max-age=300\n",
      "Content-Security-Policy: default-src 'none'; style-src 'unsafe-inline'; sandbox\n",
      "Content-Type: application/zip\n",
      "ETag: \"dbc016a060da18070593b83afff580c9b300f0b6ea4147a7988433e04df246ca\"\n",
      "Strict-Transport-Security: max-age=31536000\n",
      "X-Content-Type-Options: nosniff\n",
      "X-Frame-Options: deny\n",
      "X-XSS-Protection: 1; mode=block\n",
      "X-GitHub-Request-Id: F49E:16A6FB:3B9BE6:4D7ADD:66A7EF56\n",
      "Accept-Ranges: bytes\n",
      "Date: Mon, 29 Jul 2024 19:39:44 GMT\n",
      "Via: 1.1 varnish\n",
      "X-Served-By: cache-del21739-DEL\n",
      "X-Cache: HIT\n",
      "X-Cache-Hits: 0\n",
      "X-Timer: S1722281984.224957,VS0,VE2\n",
      "Vary: Authorization,Accept-Encoding,Origin\n",
      "Access-Control-Allow-Origin: *\n",
      "Cross-Origin-Resource-Policy: cross-origin\n",
      "X-Fastly-Request-ID: e597249254cc0f994971a717859b4e54a18b213b\n",
      "Expires: Mon, 29 Jul 2024 19:44:44 GMT\n",
      "Source-Age: 169\n",
      "\n",
      "\n"
     ]
    }
   ],
   "source": [
    "try:\n",
    "    config=ConfigurationManager()\n",
    "    data_ingestion_config = config.get_data_ingestion_config()\n",
    "    data_ingestion=DataIngestion(config=data_ingestion_config)\n",
    "    data_ingestion.download_data()\n",
    "    data_ingestion.extract_zip_file()\n",
    "except Exception as e:\n",
    "    raise e    "
   ]
  },
  {
   "cell_type": "code",
   "execution_count": 33,
   "metadata": {},
   "outputs": [
    {
     "name": "stdout",
     "output_type": "stream",
     "text": [
      "[ 2024-07-29 01:13:46,094 ] 27 root - INFO - created directory at :artifacts/data_inegstion/data.zip\n"
     ]
    }
   ],
   "source": [
    "create_directories([\"artifacts/data_inegstion/data.zip\"])"
   ]
  },
  {
   "cell_type": "code",
   "execution_count": null,
   "metadata": {},
   "outputs": [],
   "source": []
  }
 ],
 "metadata": {
  "kernelspec": {
   "display_name": "Python 3",
   "language": "python",
   "name": "python3"
  },
  "language_info": {
   "codemirror_mode": {
    "name": "ipython",
    "version": 3
   },
   "file_extension": ".py",
   "mimetype": "text/x-python",
   "name": "python",
   "nbconvert_exporter": "python",
   "pygments_lexer": "ipython3",
   "version": "3.10.0"
  }
 },
 "nbformat": 4,
 "nbformat_minor": 2
}
